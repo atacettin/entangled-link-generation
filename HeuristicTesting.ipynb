{
 "cells": [
  {
   "metadata": {
    "ExecuteTime": {
     "end_time": "2024-06-20T16:11:48.941808Z",
     "start_time": "2024-06-20T16:11:48.864313Z"
    }
   },
   "cell_type": "code",
   "source": [
    "from LinkGenerationEnv import LinkGenerationEnvV2_Continuous\n",
    "import numpy as np\n",
    "from Heuristics import *\n",
    "from Util import execute, collect_episode\n"
   ],
   "id": "5da4f2602d5ded39",
   "execution_count": 3,
   "outputs": []
  },
  {
   "metadata": {
    "ExecuteTime": {
     "end_time": "2024-06-20T16:22:50.342608Z",
     "start_time": "2024-06-20T16:22:50.337890Z"
    }
   },
   "cell_type": "code",
   "source": [
    "from Util import pick_actions_uniformly, bins, bin_probability, F\n",
    "\n",
    "n_links, threshold, decay_rate, tradeoff, actions = 4, 0.5, 0.2, 0.7, [0.3, 0.7]\n",
    "\n",
    "acts = []\n",
    "for i in range(4):\n",
    "    p = bin_probability(i, tradeoff, decay_rate, threshold, actions)\n",
    "    acts.append([F(p,tradeoff),p])\n",
    "\n",
    "for act in acts:\n",
    "    print(act,bins(act[1], tradeoff, decay_rate, threshold) )\n",
    "    # print(act[1])\n"
   ],
   "id": "8738238cdf991172",
   "execution_count": 15,
   "outputs": []
  },
  {
   "metadata": {
    "ExecuteTime": {
     "end_time": "2024-06-20T16:23:50.242788Z",
     "start_time": "2024-06-20T16:23:49.916345Z"
    }
   },
   "cell_type": "code",
   "source": [
    "from Util import bins, bin_probability\n",
    "\n",
    "n_links, threshold, decay_rate, tradeoff, actions = 4, 0.5, 0.2, 0.7, [0.4, 0.7]\n",
    "# n_links, threshold, decay_rate, tradeoff, actions = 6, 0.5, 0.08, 1, [0.2, 0.5]\n",
    "\n",
    "env = LinkGenerationEnvV2_Continuous(n_links, threshold, decay_rate, tradeoff, actions)\n",
    "\n",
    "heuristic_maker = lambda x: MatchingHeuristic(x, n_links, threshold, decay_rate, tradeoff, actions)\n",
    "# ps = [0.499999, 0.47917723308126037, 0.45662128225204746,0.43218671241964884,0.40571705891601073,0.37704282558968244,0.34598039945177667,0.3123308749259747,0.27587878017376216,0.2363906973390281]\n",
    "ps = [0.42067085700338963, 0.5386330365566891, 0.6352123006570822, 0.7]\n",
    "\n",
    "shots = 2000\n",
    "for n_links in range(1, 5):\n",
    "    env = LinkGenerationEnvV2_Continuous(n_links, threshold, decay_rate, tradeoff, actions)\n",
    "\n",
    "    for i in range(len(ps)):\n",
    "        bin = bins(ps[i], tradeoff, decay_rate, threshold)\n",
    "        if bin < n_links:\n",
    "            continue\n",
    "\n",
    "        mv_heuristic = heuristic_maker(ps[i])\n",
    "        mv_total = execute(env, mv_heuristic, shots)\n",
    "        print(\"MVHeuristic:\", np.mean(mv_total), 3*np.std(mv_total)/np.sqrt(shots), bin)\n",
    "    print(\"----------------\")"
   ],
   "id": "bbdaebb4d6ff533e",
   "execution_count": 17,
   "outputs": []
  },
  {
   "metadata": {
    "ExecuteTime": {
     "end_time": "2024-06-11T09:15:54.859004Z",
     "start_time": "2024-06-11T09:15:54.853701Z"
    }
   },
   "cell_type": "code",
   "source": [
    "from Util import bin_probability\n",
    "bin_probability(6, tradeoff, decay_rate, threshold, actions)"
   ],
   "id": "2302d582cab7fbd6",
   "execution_count": 5,
   "outputs": []
  },
  {
   "metadata": {
    "ExecuteTime": {
     "end_time": "2024-06-05T10:14:28.785333Z",
     "start_time": "2024-06-05T10:06:22.446149Z"
    }
   },
   "cell_type": "code",
   "source": [
    "# Parameter Tuning\n",
    "n_links, threshold, decay_rate, tradeoff, actions = 6, 0.5, 0.08, 1, [0.2, 0.5]\n",
    "env = LinkGenerationEnvV2_Continuous(n_links, threshold, decay_rate, tradeoff, actions)\n",
    "\n",
    "import matplotlib.pyplot as plt \n",
    "\n",
    "def tune_probability(env, ps, heuristic_creator, n=20000):\n",
    "    ys, ystds = [], []\n",
    "    for p in ps:\n",
    "        heuristic = heuristic_creator(p)\n",
    "        returns = execute(env, heuristic, n)\n",
    "        ys.append(np.mean(returns))\n",
    "        ystds.append(np.std(returns))\n",
    "    return ys, ystds\n",
    "\n",
    "matching_heuristic_creator = lambda p: MatchingHeuristic(p, n_links, threshold, decay_rate, tradeoff, actions) \n",
    "sa_heuristic_creator = lambda p: SAHeuristic(p)\n",
    "\n",
    "n = 20000\n",
    "ps = np.linspace(actions[0], 0.345, 50)\n",
    "ys, ystds = tune_probability(env, ps, sa_heuristic_creator,n)\n",
    "yerrs = 3*np.array(ystds)/np.sqrt(n)\n",
    "\n",
    "plt.errorbar(ps, np.abs(ys), yerr=yerrs)\n"
   ],
   "id": "bf94ae72b0e9b474",
   "execution_count": 16,
   "outputs": []
  }
 ],
 "metadata": {
  "kernelspec": {
   "display_name": "Python 3",
   "language": "python",
   "name": "python3"
  },
  "language_info": {
   "codemirror_mode": {
    "name": "ipython",
    "version": 2
   },
   "file_extension": ".py",
   "mimetype": "text/x-python",
   "name": "python",
   "nbconvert_exporter": "python",
   "pygments_lexer": "ipython2",
   "version": "2.7.6"
  }
 },
 "nbformat": 4,
 "nbformat_minor": 5
}
